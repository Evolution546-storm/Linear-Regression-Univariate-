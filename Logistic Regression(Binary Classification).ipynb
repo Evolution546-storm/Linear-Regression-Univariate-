{
 "cells": [
  {
   "cell_type": "code",
   "execution_count": 108,
   "id": "naughty-result",
   "metadata": {},
   "outputs": [],
   "source": [
    "import numpy as np\n",
    "import pandas as pd\n",
    "import matplotlib.pyplot as plt\n",
    "from sklearn.datasets import load_breast_cancer\n",
    "%matplotlib inline"
   ]
  },
  {
   "cell_type": "markdown",
   "id": "animal-polymer",
   "metadata": {},
   "source": [
    "#### GOALS :- Code logistic regression(Binary Classification) using a public dataset (Malignant or Benign Tumor )without using sklearn\n"
   ]
  },
  {
   "cell_type": "markdown",
   "id": "middle-grammar",
   "metadata": {},
   "source": [
    "### This following implements a logistic regression model for binary classification entirely from scratch using Python and NumPy. It demonstrates the core concepts of logistic regression, including the sigmoid function, cost function (negative log-likelihood), and gradient descent for optimization"
   ]
  },
  {
   "cell_type": "markdown",
   "id": "fifth-catalog",
   "metadata": {},
   "source": [
    "### Custom train_test split method to split the data "
   ]
  },
  {
   "cell_type": "code",
   "execution_count": 109,
   "id": "interior-figure",
   "metadata": {},
   "outputs": [],
   "source": [
    "\n",
    "def train_test_split(X,y,test_size = 0.2,random_state = None):\n",
    "    \n",
    "    if random_state:\n",
    "        np.random.seed(random_state)\n",
    "    m_examples = X.shape[0]\n",
    "    indices = np.arange(m_examples)\n",
    "    np.random.shuffle(indices)\n",
    "    \n",
    "    split_index = int(m_examples*(1-test_size))  #80% of the data\n",
    "    train_indices = indices[:split_index]\n",
    "    test_indices = indices[split_index:]\n",
    "    X_train , X_test = X[train_indices],X[test_indices]\n",
    "    y_train , y_test = y[train_indices] , y[test_indices]\n",
    "    \n",
    "    return X_train , X_test, y_train,y_test\n",
    "\n",
    "\n",
    "    "
   ]
  },
  {
   "cell_type": "markdown",
   "id": "demanding-ethnic",
   "metadata": {},
   "source": [
    "## Logistic Regression Model class"
   ]
  },
  {
   "cell_type": "code",
   "execution_count": 110,
   "id": "great-richards",
   "metadata": {},
   "outputs": [],
   "source": [
    "class LogisticRegression:\n",
    "    \n",
    "    \n",
    "    \n",
    "    def __init__(self,alpha=0.01,iters=100000,verbose = False):\n",
    "        \"\"\"\n",
    "        alpha is the learning rate for our gardient descent method\n",
    "        iters is number of iterations for gradient descent \n",
    "        verbose if true will print cost after evry 1000 iterations\n",
    "        \n",
    "        \"\"\"\n",
    "        self.alpha = alpha\n",
    "        self.iters = iters\n",
    "        self.verbose = verbose\n",
    "        self.theta = None\n",
    "        self.bias = None\n",
    "        self.costs = []\n",
    "\n",
    "        \n",
    "    def _sigmoid_func(self,z):\n",
    "        z = np.clip(z,-500,500)\n",
    "        g_z = 1/(1+np.exp(-z)) ##Sigmoid Function\n",
    "        return g_z\n",
    "    \n",
    "    def _intialise_params(self,n_features):\n",
    "        self.theta = np.zeros(n_features)\n",
    "        self.bias = 0\n",
    "        \n",
    "    def fit(self,X,y):\n",
    "        m_examples,n_features = X.shape\n",
    "        self._intialise_params(n_features)\n",
    "        for i in range(self.iters):\n",
    "            theta_tx = np.dot(X,self.theta)+self.bias # calculate theta transpose x \n",
    "            y_predicted = self._sigmoid_func(theta_tx)#apply sigmoid function\n",
    "            cost = -(1/m_examples)*np.sum(y*np.log(y_predicted)+(1-y)*np.log(1-y_predicted)) #calculate -log likelihood \n",
    "            self.costs.append(cost)\n",
    "            #calculate the partial derivatives for weights and biases:\n",
    "            \n",
    "            dtheta = (1/m_examples)*np.dot(X.T,(y_predicted-y)) \n",
    "            db = (1/m_examples)*np.sum(y_predicted-y)\n",
    "            \n",
    "            #Apply Gradient Descent to find the best fit for theta and biases\n",
    "            \n",
    "            self.theta = self.theta - self.alpha*dtheta\n",
    "            self.bias = self.bias - self.alpha*db\n",
    "            \n",
    "            if self.verbose and i%1000==0:\n",
    "                print(f\"Cost after iteration {i}: {cost}\")\n",
    "                \n",
    "    def predict(self,X):\n",
    "        #Calulate theta(transpose).X + bias\n",
    "        theta_tx = np.dot(X,self.theta)+self.bias\n",
    "        \n",
    "        #Calucate the prediction using sigmoid function:\n",
    "        \n",
    "        y_predicted = self._sigmoid_func(theta_tx)\n",
    "        #Create an array of predicted values based on the decision boundary:-\n",
    "        \n",
    "        y_predicted_cls = [1 if x > 0.5 else 0 for x in y_predicted] #The predicted class labels (0 or 1)\n",
    "        return np.array(y_predicted_cls)"
   ]
  },
  {
   "cell_type": "markdown",
   "id": "liquid-transition",
   "metadata": {},
   "source": [
    "### Load the dataset"
   ]
  },
  {
   "cell_type": "code",
   "execution_count": 111,
   "id": "sophisticated-latitude",
   "metadata": {},
   "outputs": [],
   "source": [
    "data = load_breast_cancer()\n",
    "X = data.data\n",
    "y = data.target"
   ]
  },
  {
   "cell_type": "markdown",
   "id": "breathing-scoop",
   "metadata": {},
   "source": [
    "## Feature Scaling (Mean Normalisation)"
   ]
  },
  {
   "cell_type": "code",
   "execution_count": 112,
   "id": "hawaiian-bacteria",
   "metadata": {},
   "outputs": [],
   "source": [
    "X = (X-np.mean(X,axis=0))/np.std(X,axis=0)"
   ]
  },
  {
   "cell_type": "markdown",
   "id": "sexual-pathology",
   "metadata": {},
   "source": [
    "### Train , Test split using our custom method"
   ]
  },
  {
   "cell_type": "code",
   "execution_count": 113,
   "id": "polyphonic-percentage",
   "metadata": {},
   "outputs": [],
   "source": [
    "X_train , X_test, y_train,y_test = train_test_split(X,y,test_size=0.2,random_state=42)\n"
   ]
  },
  {
   "cell_type": "markdown",
   "id": "corporate-nancy",
   "metadata": {},
   "source": [
    "## Training the model"
   ]
  },
  {
   "cell_type": "code",
   "execution_count": 114,
   "id": "small-survey",
   "metadata": {},
   "outputs": [
    {
     "name": "stdout",
     "output_type": "stream",
     "text": [
      ".........Training the model.......\n",
      "Cost after iteration 0: 0.6931471805599453\n",
      "Cost after iteration 1000: 0.09596465117339478\n",
      "\n",
      "\n",
      "Model training complete\n"
     ]
    }
   ],
   "source": [
    "print('.........Training the model.......')\n",
    "model = LogisticRegression(alpha=0.01,iters=2000,verbose = True)\n",
    "model.fit(X_train,y_train)\n",
    "print('\\n')\n",
    "print('Model training complete')"
   ]
  },
  {
   "cell_type": "markdown",
   "id": "presidential-center",
   "metadata": {},
   "source": [
    "## Evaluating the model"
   ]
  },
  {
   "cell_type": "markdown",
   "id": "leading-depression",
   "metadata": {},
   "source": [
    "#### Make Predictions"
   ]
  },
  {
   "cell_type": "code",
   "execution_count": 115,
   "id": "annual-singles",
   "metadata": {},
   "outputs": [],
   "source": [
    "y_pred_train = model.predict(X_train)\n",
    "y_pred_test = model.predict(X_test)"
   ]
  },
  {
   "cell_type": "markdown",
   "id": "affiliated-mixture",
   "metadata": {},
   "source": [
    "### Calculating accuracy"
   ]
  },
  {
   "cell_type": "code",
   "execution_count": 116,
   "id": "apart-liberty",
   "metadata": {},
   "outputs": [],
   "source": [
    "def accuracy(true,pred):\n",
    "    ac = np.sum(true==pred)/len(true)\n",
    "    return ac"
   ]
  },
  {
   "cell_type": "code",
   "execution_count": 117,
   "id": "municipal-rough",
   "metadata": {},
   "outputs": [],
   "source": [
    "train_set_accuracy = accuracy(y_train,y_pred_train)\n",
    "test_set_accuracy = accuracy(y_test,y_pred_test)"
   ]
  },
  {
   "cell_type": "code",
   "execution_count": 118,
   "id": "growing-candidate",
   "metadata": {},
   "outputs": [
    {
     "name": "stdout",
     "output_type": "stream",
     "text": [
      "\n",
      "--- Model Evaluation ---\n",
      "Training Accuracy: 0.9890\n",
      "Test Accuracy: 0.9649\n",
      "----------------------\n",
      "\n"
     ]
    }
   ],
   "source": [
    "print(\"\\n--- Model Evaluation ---\")\n",
    "print(f\"Training Accuracy: {train_set_accuracy:.4f}\")\n",
    "print(f\"Test Accuracy: {test_set_accuracy:.4f}\")\n",
    "print(\"----------------------\\n\")"
   ]
  },
  {
   "cell_type": "markdown",
   "id": "unlimited-smooth",
   "metadata": {},
   "source": [
    "## Ploting the Cost Function(log likelihood)"
   ]
  },
  {
   "cell_type": "code",
   "execution_count": 99,
   "id": "mechanical-james",
   "metadata": {},
   "outputs": [
    {
     "data": {
      "image/png": "[encoded data removed]",
      "text/plain": [
       "<Figure size 576x432 with 1 Axes>"
      ]
     },
     "metadata": {
      "needs_background": "light"
     },
     "output_type": "display_data"
    }
   ],
   "source": [
    "plt.figure(figsize=(8,6))\n",
    "plt.plot(model.costs)\n",
    "plt.xlabel(\"Iteration\")\n",
    "plt.ylabel(\"Cost (Negative Log Likelihood)\")\n",
    "plt.title(\"Cost Function vs. Iterations\")\n",
    "plt.grid(True)\n",
    "plt.show()"
   ]
  },
  {
   "cell_type": "markdown",
   "id": "right-southwest",
   "metadata": {},
   "source": [
    "## New Prediction"
   ]
  },
  {
   "cell_type": "code",
   "execution_count": 102,
   "id": "balanced-country",
   "metadata": {},
   "outputs": [],
   "source": [
    "feature = X_test[10]\n",
    "label = y_test[10]\n",
    "pred = model.predict(feature.reshape(1,-1))[0]"
   ]
  },
  {
   "cell_type": "code",
   "execution_count": 107,
   "id": "perceived-buffalo",
   "metadata": {},
   "outputs": [
    {
     "name": "stdout",
     "output_type": "stream",
     "text": [
      "....Example Prediction.....\n",
      "\n",
      "features:[ 1.18794852  0.30027345  1.18755329  1.12942414  0.7429472   0.38772862\n",
      "  0.85500212  1.17596969  0.17663765 -0.48022895  0.50430749 -0.53405834\n",
      "  0.17422146  0.59455046 -0.28833799 -0.37491479 -0.09163661 -0.21673435\n",
      " -0.59961692 -0.40469257  1.15775912  0.08513096  1.04068107  1.0765754\n",
      "  0.73781968 -0.00423061  0.49755844  0.55415339  0.28027125 -0.29458036]\n",
      "\n",
      "Actual label:Benign\n",
      "\n",
      "Predicted Label: Benign\n"
     ]
    }
   ],
   "source": [
    "print('....Example Prediction.....\\n')\n",
    "print(f\"features:{feature}\\n\")\n",
    "print(f\"Actual label:{'Malignant' if label==1 else 'Benign'}\\n\")\n",
    "print(f\"Predicted Label: {'Malignant' if pred == 1 else 'Benign'}\")"
   ]
  },
  {
   "cell_type": "markdown",
   "id": "inside-leather",
   "metadata": {},
   "source": [
    "## Conclusion"
   ]
  },
  {
   "cell_type": "code",
   "execution_count": 119,
   "id": "suspended-expert",
   "metadata": {},
   "outputs": [
    {
     "name": "stdout",
     "output_type": "stream",
     "text": [
      "\n",
      "--- Model Evaluation ---\n",
      "Training Accuracy: 0.9890\n",
      "Test Accuracy: 0.9649\n",
      "----------------------\n",
      "\n"
     ]
    }
   ],
   "source": [
    "train_set_accuracy = accuracy(y_train,y_pred_train)\n",
    "test_set_accuracy = accuracy(y_test,y_pred_test)\n",
    "print(\"\\n--- Model Evaluation ---\")\n",
    "print(f\"Training Accuracy: {train_set_accuracy:.4f}\")\n",
    "print(f\"Test Accuracy: {test_set_accuracy:.4f}\")\n",
    "print(\"----------------------\\n\")"
   ]
  },
  {
   "cell_type": "markdown",
   "id": "going-agent",
   "metadata": {},
   "source": [
    "### Achieved accuracy on Train Set 98.9% and Achieved accuarcy on test set is 96.49%"
   ]
  }
 ],
 "metadata": {
  "kernelspec": {
   "display_name": "Python 3",
   "language": "python",
   "name": "python3"
  },
  "language_info": {
   "codemirror_mode": {
    "name": "ipython",
    "version": 3
   },
   "file_extension": ".py",
   "mimetype": "text/x-python",
   "name": "python",
   "nbconvert_exporter": "python",
   "pygments_lexer": "ipython3",
   "version": "3.7.9"
  }
 },
 "nbformat": 4,
 "nbformat_minor": 5
}
