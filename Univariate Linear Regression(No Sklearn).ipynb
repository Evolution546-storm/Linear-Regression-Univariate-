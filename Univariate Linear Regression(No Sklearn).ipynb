{
 "cells": [
  {
   "cell_type": "markdown",
   "id": "hairy-application",
   "metadata": {},
   "source": [
    "## Univariate Linear Regression"
   ]
  },
  {
   "cell_type": "code",
   "execution_count": 143,
   "id": "floating-cleveland",
   "metadata": {},
   "outputs": [],
   "source": [
    "#House Price Prediction\n",
    "import numpy as np\n",
    "import pandas as pd\n",
    "import matplotlib.pyplot as plt\n",
    "%matplotlib inline\n"
   ]
  },
  {
   "cell_type": "markdown",
   "id": "3fa02625-61e8-40e0-a162-b8709c887c4c",
   "metadata": {},
   "source": [
    "## Data Loading and Preparation"
   ]
  },
  {
   "cell_type": "markdown",
   "id": "velvet-wheat",
   "metadata": {},
   "source": [
    "#Takes house size as one input and gives out price\n",
    "f(x) = wx + b (Linear Regression with one variable)\n",
    "Univariate linear regression"
   ]
  },
  {
   "cell_type": "code",
   "execution_count": 144,
   "id": "artistic-course",
   "metadata": {},
   "outputs": [],
   "source": [
    "data = pd.read_csv('USA_Housing.csv')\n"
   ]
  },
  {
   "cell_type": "code",
   "execution_count": 145,
   "id": "cathedral-nashville",
   "metadata": {},
   "outputs": [
    {
     "data": {
      "text/html": [
       "<div>\n",
       "<style scoped>\n",
       "    .dataframe tbody tr th:only-of-type {\n",
       "        vertical-align: middle;\n",
       "    }\n",
       "\n",
       "    .dataframe tbody tr th {\n",
       "        vertical-align: top;\n",
       "    }\n",
       "\n",
       "    .dataframe thead th {\n",
       "        text-align: right;\n",
       "    }\n",
       "</style>\n",
       "<table border=\"1\" class=\"dataframe\">\n",
       "  <thead>\n",
       "    <tr style=\"text-align: right;\">\n",
       "      <th></th>\n",
       "      <th>Avg. Area Income</th>\n",
       "      <th>Avg. Area House Age</th>\n",
       "      <th>Avg. Area Number of Rooms</th>\n",
       "      <th>Avg. Area Number of Bedrooms</th>\n",
       "      <th>Area Population</th>\n",
       "      <th>Price</th>\n",
       "      <th>Address</th>\n",
       "    </tr>\n",
       "  </thead>\n",
       "  <tbody>\n",
       "    <tr>\n",
       "      <th>0</th>\n",
       "      <td>79545.458574</td>\n",
       "      <td>5.682861</td>\n",
       "      <td>7.009188</td>\n",
       "      <td>4.09</td>\n",
       "      <td>23086.800503</td>\n",
       "      <td>1.059034e+06</td>\n",
       "      <td>208 Michael Ferry Apt. 674\\nLaurabury, NE 3701...</td>\n",
       "    </tr>\n",
       "    <tr>\n",
       "      <th>1</th>\n",
       "      <td>79248.642455</td>\n",
       "      <td>6.002900</td>\n",
       "      <td>6.730821</td>\n",
       "      <td>3.09</td>\n",
       "      <td>40173.072174</td>\n",
       "      <td>1.505891e+06</td>\n",
       "      <td>188 Johnson Views Suite 079\\nLake Kathleen, CA...</td>\n",
       "    </tr>\n",
       "    <tr>\n",
       "      <th>2</th>\n",
       "      <td>61287.067179</td>\n",
       "      <td>5.865890</td>\n",
       "      <td>8.512727</td>\n",
       "      <td>5.13</td>\n",
       "      <td>36882.159400</td>\n",
       "      <td>1.058988e+06</td>\n",
       "      <td>9127 Elizabeth Stravenue\\nDanieltown, WI 06482...</td>\n",
       "    </tr>\n",
       "    <tr>\n",
       "      <th>3</th>\n",
       "      <td>63345.240046</td>\n",
       "      <td>7.188236</td>\n",
       "      <td>5.586729</td>\n",
       "      <td>3.26</td>\n",
       "      <td>34310.242831</td>\n",
       "      <td>1.260617e+06</td>\n",
       "      <td>USS Barnett\\nFPO AP 44820</td>\n",
       "    </tr>\n",
       "    <tr>\n",
       "      <th>4</th>\n",
       "      <td>59982.197226</td>\n",
       "      <td>5.040555</td>\n",
       "      <td>7.839388</td>\n",
       "      <td>4.23</td>\n",
       "      <td>26354.109472</td>\n",
       "      <td>6.309435e+05</td>\n",
       "      <td>USNS Raymond\\nFPO AE 09386</td>\n",
       "    </tr>\n",
       "  </tbody>\n",
       "</table>\n",
       "</div>"
      ],
      "text/plain": [
       "   Avg. Area Income  Avg. Area House Age  Avg. Area Number of Rooms  \\\n",
       "0      79545.458574             5.682861                   7.009188   \n",
       "1      79248.642455             6.002900                   6.730821   \n",
       "2      61287.067179             5.865890                   8.512727   \n",
       "3      63345.240046             7.188236                   5.586729   \n",
       "4      59982.197226             5.040555                   7.839388   \n",
       "\n",
       "   Avg. Area Number of Bedrooms  Area Population         Price  \\\n",
       "0                          4.09     23086.800503  1.059034e+06   \n",
       "1                          3.09     40173.072174  1.505891e+06   \n",
       "2                          5.13     36882.159400  1.058988e+06   \n",
       "3                          3.26     34310.242831  1.260617e+06   \n",
       "4                          4.23     26354.109472  6.309435e+05   \n",
       "\n",
       "                                             Address  \n",
       "0  208 Michael Ferry Apt. 674\\nLaurabury, NE 3701...  \n",
       "1  188 Johnson Views Suite 079\\nLake Kathleen, CA...  \n",
       "2  9127 Elizabeth Stravenue\\nDanieltown, WI 06482...  \n",
       "3                          USS Barnett\\nFPO AP 44820  \n",
       "4                         USNS Raymond\\nFPO AE 09386  "
      ]
     },
     "execution_count": 145,
     "metadata": {},
     "output_type": "execute_result"
    }
   ],
   "source": [
    "data.head()"
   ]
  },
  {
   "cell_type": "code",
   "execution_count": 146,
   "id": "finnish-disorder",
   "metadata": {},
   "outputs": [
    {
     "data": {
      "text/plain": [
       "Index(['Avg. Area Income', 'Avg. Area House Age', 'Avg. Area Number of Rooms',\n",
       "       'Avg. Area Number of Bedrooms', 'Area Population', 'Price', 'Address'],\n",
       "      dtype='object')"
      ]
     },
     "execution_count": 146,
     "metadata": {},
     "output_type": "execute_result"
    }
   ],
   "source": [
    "data.columns"
   ]
  },
  {
   "cell_type": "code",
   "execution_count": 147,
   "id": "considered-twins",
   "metadata": {},
   "outputs": [
    {
     "name": "stdout",
     "output_type": "stream",
     "text": [
      "<class 'pandas.core.frame.DataFrame'>\n",
      "RangeIndex: 5000 entries, 0 to 4999\n",
      "Data columns (total 7 columns):\n",
      " #   Column                        Non-Null Count  Dtype  \n",
      "---  ------                        --------------  -----  \n",
      " 0   Avg. Area Income              5000 non-null   float64\n",
      " 1   Avg. Area House Age           5000 non-null   float64\n",
      " 2   Avg. Area Number of Rooms     5000 non-null   float64\n",
      " 3   Avg. Area Number of Bedrooms  5000 non-null   float64\n",
      " 4   Area Population               5000 non-null   float64\n",
      " 5   Price                         5000 non-null   float64\n",
      " 6   Address                       5000 non-null   object \n",
      "dtypes: float64(6), object(1)\n",
      "memory usage: 273.6+ KB\n"
     ]
    }
   ],
   "source": [
    "data.info()"
   ]
  },
  {
   "cell_type": "markdown",
   "id": "excellent-garbage",
   "metadata": {},
   "source": [
    "## Goal:-"
   ]
  },
  {
   "cell_type": "markdown",
   "id": "satisfactory-reverse",
   "metadata": {},
   "source": [
    "## Price Prediction using Avg.Area income(Simple Linear Regression)"
   ]
  },
  {
   "cell_type": "code",
   "execution_count": 148,
   "id": "popular-material",
   "metadata": {},
   "outputs": [
    {
     "data": {
      "image/png": "[encoded data removed]",
      "text/plain": [
       "<Figure size 432x288 with 1 Axes>"
      ]
     },
     "metadata": {
      "needs_background": "light"
     },
     "output_type": "display_data"
    }
   ],
   "source": [
    "#Feature\n",
    "X = data['Avg. Area Income'].values\n",
    "y = data['Price'].values\n",
    "\n",
    "#plotting the data\n",
    "plt.scatter(X[0:200],y[0:200],edgecolor='black',linewidth=2,alpha=1.00)\n",
    "plt.xlabel('Avg. Area Income')\n",
    "plt.ylabel('Price')\n",
    "plt.title('Housing Price')\n",
    "plt.show()\n"
   ]
  },
  {
   "cell_type": "code",
   "execution_count": 149,
   "id": "chubby-waste",
   "metadata": {},
   "outputs": [],
   "source": [
    "#Number of training examples\n",
    "m = len(y)\n",
    "X=X.reshape(m,-1)#column vector"
   ]
  },
  {
   "cell_type": "code",
   "execution_count": 150,
   "id": "removed-terry",
   "metadata": {},
   "outputs": [
    {
     "data": {
      "text/plain": [
       "(5000, 1)"
      ]
     },
     "execution_count": 150,
     "metadata": {},
     "output_type": "execute_result"
    }
   ],
   "source": [
    "X.shape"
   ]
  },
  {
   "cell_type": "code",
   "execution_count": 151,
   "id": "human-penguin",
   "metadata": {},
   "outputs": [],
   "source": [
    "#feature scaling\n",
    "#mean normalisation\n",
    "X_mean = np.mean(X)\n",
    "X_std = np.std(X)\n",
    "X_scaled = (X-X_mean)/X_std\n",
    "            "
   ]
  },
  {
   "cell_type": "code",
   "execution_count": 152,
   "id": "textile-baghdad",
   "metadata": {
    "scrolled": true
   },
   "outputs": [
    {
     "data": {
      "text/plain": [
       "array([[ 1.02865969],\n",
       "       [ 1.00080775],\n",
       "       [-0.68462916],\n",
       "       [-0.49149907],\n",
       "       [-0.80707253],\n",
       "       [ 1.08780392],\n",
       "       [-0.36451842],\n",
       "       [ 0.92064362],\n",
       "       [-0.81219   ],\n",
       "       [ 1.24827919]])"
      ]
     },
     "execution_count": 152,
     "metadata": {},
     "output_type": "execute_result"
    }
   ],
   "source": [
    "X_Scaled[0:10]"
   ]
  },
  {
   "cell_type": "code",
   "execution_count": 153,
   "id": "unsigned-corrections",
   "metadata": {},
   "outputs": [],
   "source": [
    "#DESIGN MATRIX\n",
    "X_b = np.c_[np.ones((m,1)),X_scaled]"
   ]
  },
  {
   "cell_type": "code",
   "execution_count": 174,
   "id": "impressive-problem",
   "metadata": {},
   "outputs": [
    {
     "data": {
      "text/plain": [
       "array([[ 1.        ,  1.02865969],\n",
       "       [ 1.        ,  1.00080775],\n",
       "       [ 1.        , -0.68462916],\n",
       "       [ 1.        , -0.49149907],\n",
       "       [ 1.        , -0.80707253],\n",
       "       [ 1.        ,  1.08780392],\n",
       "       [ 1.        , -0.36451842],\n",
       "       [ 1.        ,  0.92064362],\n",
       "       [ 1.        , -0.81219   ],\n",
       "       [ 1.        ,  1.24827919]])"
      ]
     },
     "execution_count": 174,
     "metadata": {},
     "output_type": "execute_result"
    }
   ],
   "source": [
    "X_b[0:10]\n"
   ]
  },
  {
   "cell_type": "markdown",
   "id": "running-netscape",
   "metadata": {},
   "source": [
    "## Cost Function"
   ]
  },
  {
   "cell_type": "markdown",
   "id": "vietnamese-clearing",
   "metadata": {},
   "source": [
    "### Mean Squared Error"
   ]
  },
  {
   "cell_type": "markdown",
   "id": "similar-direction",
   "metadata": {},
   "source": [
    "#### j(theta)= (1/2m)*sum((h(X)-y)^2) "
   ]
  },
  {
   "cell_type": "markdown",
   "id": "continental-walter",
   "metadata": {},
   "source": [
    "##### Now h(X) = X.theta or X.dot(theta)\n",
    "where h is our hypotheis and theta is our parameters or weights"
   ]
  },
  {
   "cell_type": "code",
   "execution_count": 155,
   "id": "unlimited-cabin",
   "metadata": {},
   "outputs": [],
   "source": [
    "def cost_function(X,y,theta):\n",
    "    m = len(y)\n",
    "    pred = X.dot(theta)\n",
    "    error = pred-y\n",
    "    sqr_errors= np.square(error)\n",
    "    cost = (1/(2*m))*np.sum(sqr_errors)\n",
    "    return cost\n",
    "    "
   ]
  },
  {
   "cell_type": "markdown",
   "id": "challenging-oracle",
   "metadata": {},
   "source": [
    "## Gradient descent"
   ]
  },
  {
   "cell_type": "markdown",
   "id": "expensive-shipping",
   "metadata": {},
   "source": [
    "### gradient(j(theta))"
   ]
  },
  {
   "cell_type": "markdown",
   "id": "optimum-express",
   "metadata": {},
   "source": [
    "### update theta = theta - learningrate*partial_derivative(j(theta))"
   ]
  },
  {
   "cell_type": "code",
   "execution_count": 156,
   "id": "turkish-rebecca",
   "metadata": {},
   "outputs": [],
   "source": [
    "def gradient_descent(X,y,theta,alpha,iterations):\n",
    "    m = len(y)\n",
    "    cost_history = []\n",
    "    for i in range(iterations):\n",
    "        pred = X.dot(theta)\n",
    "        error = pred-y\n",
    "        gradient = (1/m)*np.matmul(X.T,error)\n",
    "        theta = theta - (alpha*gradient)# alpha is the learning rate\n",
    "        cost = cost_function(X,y,theta)\n",
    "        cost_history.append(cost)\n",
    "        \n",
    "    return theta , cost_history\n",
    "    "
   ]
  },
  {
   "cell_type": "markdown",
   "id": "accessory-waters",
   "metadata": {},
   "source": [
    "## Building and Training the model"
   ]
  },
  {
   "cell_type": "code",
   "execution_count": 157,
   "id": "abroad-appreciation",
   "metadata": {},
   "outputs": [
    {
     "data": {
      "text/plain": [
       "array([0., 0.])"
      ]
     },
     "execution_count": 157,
     "metadata": {},
     "output_type": "execute_result"
    }
   ],
   "source": [
    "#first we initialise theta with zeros\n",
    "theta_initial = np.zeros(2)\n",
    "theta_initial"
   ]
  },
  {
   "cell_type": "code",
   "execution_count": 158,
   "id": "planned-culture",
   "metadata": {},
   "outputs": [
    {
     "name": "stdout",
     "output_type": "stream",
     "text": [
      "Starting gardient descent\n"
     ]
    }
   ],
   "source": [
    "alpha=0.015\n",
    "iterations=5000\n",
    "print('Starting gardient descent')"
   ]
  },
  {
   "cell_type": "code",
   "execution_count": 159,
   "id": "authorized-bread",
   "metadata": {},
   "outputs": [],
   "source": [
    "theta_final , cost_history = gradient_descent(X_b,y,theta_initial,alpha,iterations)"
   ]
  },
  {
   "cell_type": "code",
   "execution_count": 160,
   "id": "stylish-bleeding",
   "metadata": {},
   "outputs": [
    {
     "name": "stdout",
     "output_type": "stream",
     "text": [
      "Gradient Descent Finished.\n",
      "\n",
      "Final learned parameters (theta):\n",
      "  - theta_0 (Intercept): 1232072.65\n",
      "  - theta_1 (Slope):     225878.68\n"
     ]
    }
   ],
   "source": [
    "print(\"Gradient Descent Finished.\")\n",
    "print(f\"\\nFinal learned parameters (theta):\")\n",
    "print(f\"  - theta_0 (Intercept): {theta_final[0]:.2f}\")\n",
    "print(f\"  - theta_1 (Slope):     {theta_final[1]:.2f}\")"
   ]
  },
  {
   "cell_type": "code",
   "execution_count": 161,
   "id": "unexpected-webmaster",
   "metadata": {},
   "outputs": [
    {
     "data": {
      "text/plain": [
       "array([1232072.65414235,  225878.68216238])"
      ]
     },
     "execution_count": 161,
     "metadata": {},
     "output_type": "execute_result"
    }
   ],
   "source": [
    "theta_final"
   ]
  },
  {
   "cell_type": "code",
   "execution_count": 162,
   "id": "danish-pointer",
   "metadata": {},
   "outputs": [
    {
     "name": "stdout",
     "output_type": "stream",
     "text": [
      "\n",
      "Final Cost (MSE): 36822970367.59\n"
     ]
    }
   ],
   "source": [
    "final_cost = cost_function(X_b,y,theta_final)\n",
    "print(f\"\\nFinal Cost (MSE): {final_cost:.2f}\")"
   ]
  },
  {
   "cell_type": "markdown",
   "id": "incident-emphasis",
   "metadata": {},
   "source": [
    "## Visualization"
   ]
  },
  {
   "cell_type": "code",
   "execution_count": 163,
   "id": "played-choice",
   "metadata": {},
   "outputs": [
    {
     "data": {
      "image/png": "[encoded data removed]",
      "text/plain": [
       "<Figure size 432x288 with 1 Axes>"
      ]
     },
     "metadata": {
      "needs_background": "light"
     },
     "output_type": "display_data"
    }
   ],
   "source": [
    "\n",
    "plt.scatter(X,y,color='red',marker='.',label='training data')#original data\n",
    "predictions = X_b.dot(theta_final)\n",
    "plt.plot(X,predictions,color='b',linewidth=2,label='Regression line')#predicted data \n",
    "plt.title('House Price vs. Average Area Income')\n",
    "plt.xlabel('Average Area Income')\n",
    "plt.ylabel('Price')\n",
    "plt.legend()\n",
    "plt.grid(True)\n",
    "\n",
    "plt.tight_layout()\n",
    "plt.show()"
   ]
  },
  {
   "cell_type": "markdown",
   "id": "cross-light",
   "metadata": {},
   "source": [
    "## Making a new prediction"
   ]
  },
  {
   "cell_type": "code",
   "execution_count": 164,
   "id": "circular-combination",
   "metadata": {},
   "outputs": [],
   "source": [
    "new = 75000\n",
    "#scale it \n",
    "new_s = (new-X_mean)/X_std\n",
    "new_data_point = np.array([1,new_s])"
   ]
  },
  {
   "cell_type": "code",
   "execution_count": 165,
   "id": "tribal-concern",
   "metadata": {},
   "outputs": [
    {
     "data": {
      "text/plain": [
       "array([1.        , 0.60213343])"
      ]
     },
     "execution_count": 165,
     "metadata": {},
     "output_type": "execute_result"
    }
   ],
   "source": [
    "new_data_point"
   ]
  },
  {
   "cell_type": "code",
   "execution_count": 166,
   "id": "stunning-carbon",
   "metadata": {},
   "outputs": [],
   "source": [
    "predicted_price = new_data_point.dot(theta_final)"
   ]
  },
  {
   "cell_type": "markdown",
   "id": "express-broadcasting",
   "metadata": {},
   "source": [
    "### this is to find the closest index that corresponds to new income"
   ]
  },
  {
   "cell_type": "code",
   "execution_count": 169,
   "id": "planned-puzzle",
   "metadata": {},
   "outputs": [
    {
     "name": "stdout",
     "output_type": "stream",
     "text": [
      "[74994.85564398]\n"
     ]
    }
   ],
   "source": [
    "closest_index = np.argmin(np.abs(X-new))\n",
    "print(X[closest_index])\n",
    "actual_price = y[closest_index]"
   ]
  },
  {
   "cell_type": "code",
   "execution_count": 170,
   "id": "cultural-complexity",
   "metadata": {},
   "outputs": [
    {
     "name": "stdout",
     "output_type": "stream",
     "text": [
      "Predicted price: $1,368,081.76\n",
      "Actual price for that house: $1,301,486.69\n"
     ]
    }
   ],
   "source": [
    "print(f\"Predicted price: ${predicted_price:,.2f}\")\n",
    "print(f\"Actual price for that house: ${actual_price:,.2f}\")"
   ]
  },
  {
   "cell_type": "code",
   "execution_count": null,
   "id": "thick-thesaurus",
   "metadata": {},
   "outputs": [],
   "source": []
  }
 ],
 "metadata": {
  "kernelspec": {
   "display_name": "Python 3",
   "language": "python",
   "name": "python3"
  },
  "language_info": {
   "codemirror_mode": {
    "name": "ipython",
    "version": 3
   },
   "file_extension": ".py",
   "mimetype": "text/x-python",
   "name": "python",
   "nbconvert_exporter": "python",
   "pygments_lexer": "ipython3",
   "version": "3.7.9"
  }
 },
 "nbformat": 4,
 "nbformat_minor": 5
}
